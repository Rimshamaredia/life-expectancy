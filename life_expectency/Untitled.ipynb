{
 "cells": [
  {
   "cell_type": "code",
   "execution_count": 1,
   "metadata": {},
   "outputs": [],
   "source": [
    "import pandas as pd\n",
    "import matplotlib.pyplot as plt\n",
    "import numpy as np"
   ]
  },
  {
   "cell_type": "code",
   "execution_count": 4,
   "metadata": {},
   "outputs": [
    {
     "data": {
      "text/html": [
       "<div>\n",
       "<style scoped>\n",
       "    .dataframe tbody tr th:only-of-type {\n",
       "        vertical-align: middle;\n",
       "    }\n",
       "\n",
       "    .dataframe tbody tr th {\n",
       "        vertical-align: top;\n",
       "    }\n",
       "\n",
       "    .dataframe thead th {\n",
       "        text-align: right;\n",
       "    }\n",
       "</style>\n",
       "<table border=\"1\" class=\"dataframe\">\n",
       "  <thead>\n",
       "    <tr style=\"text-align: right;\">\n",
       "      <th></th>\n",
       "      <th>GHO (DISPLAY)</th>\n",
       "      <th>YEAR (CODE)</th>\n",
       "      <th>COUNTRY (DISPLAY)</th>\n",
       "      <th>SEX (DISPLAY)</th>\n",
       "      <th>Numeric</th>\n",
       "    </tr>\n",
       "  </thead>\n",
       "  <tbody>\n",
       "    <tr>\n",
       "      <th>2210</th>\n",
       "      <td>Life expectancy at birth (years)</td>\n",
       "      <td>2002</td>\n",
       "      <td>India</td>\n",
       "      <td>Male</td>\n",
       "      <td>62.70160</td>\n",
       "    </tr>\n",
       "    <tr>\n",
       "      <th>2211</th>\n",
       "      <td>Life expectancy at birth (years)</td>\n",
       "      <td>2003</td>\n",
       "      <td>India</td>\n",
       "      <td>Male</td>\n",
       "      <td>63.08193</td>\n",
       "    </tr>\n",
       "    <tr>\n",
       "      <th>2212</th>\n",
       "      <td>Life expectancy at birth (years)</td>\n",
       "      <td>2004</td>\n",
       "      <td>India</td>\n",
       "      <td>Male</td>\n",
       "      <td>63.41594</td>\n",
       "    </tr>\n",
       "    <tr>\n",
       "      <th>2213</th>\n",
       "      <td>Life expectancy at birth (years)</td>\n",
       "      <td>2005</td>\n",
       "      <td>India</td>\n",
       "      <td>Male</td>\n",
       "      <td>63.87052</td>\n",
       "    </tr>\n",
       "    <tr>\n",
       "      <th>2214</th>\n",
       "      <td>Life expectancy at birth (years)</td>\n",
       "      <td>2006</td>\n",
       "      <td>India</td>\n",
       "      <td>Male</td>\n",
       "      <td>64.28259</td>\n",
       "    </tr>\n",
       "    <tr>\n",
       "      <th>2215</th>\n",
       "      <td>Life expectancy at birth (years)</td>\n",
       "      <td>2001</td>\n",
       "      <td>India</td>\n",
       "      <td>Female</td>\n",
       "      <td>63.44758</td>\n",
       "    </tr>\n",
       "    <tr>\n",
       "      <th>2216</th>\n",
       "      <td>Life expectancy at birth (years)</td>\n",
       "      <td>2002</td>\n",
       "      <td>India</td>\n",
       "      <td>Female</td>\n",
       "      <td>63.86421</td>\n",
       "    </tr>\n",
       "    <tr>\n",
       "      <th>2217</th>\n",
       "      <td>Life expectancy at birth (years)</td>\n",
       "      <td>2003</td>\n",
       "      <td>India</td>\n",
       "      <td>Female</td>\n",
       "      <td>64.25252</td>\n",
       "    </tr>\n",
       "    <tr>\n",
       "      <th>2218</th>\n",
       "      <td>Life expectancy at birth (years)</td>\n",
       "      <td>2004</td>\n",
       "      <td>India</td>\n",
       "      <td>Female</td>\n",
       "      <td>64.63663</td>\n",
       "    </tr>\n",
       "    <tr>\n",
       "      <th>2219</th>\n",
       "      <td>Life expectancy at birth (years)</td>\n",
       "      <td>2000</td>\n",
       "      <td>India</td>\n",
       "      <td>Both sexes</td>\n",
       "      <td>62.48507</td>\n",
       "    </tr>\n",
       "  </tbody>\n",
       "</table>\n",
       "</div>"
      ],
      "text/plain": [
       "                         GHO (DISPLAY)  YEAR (CODE) COUNTRY (DISPLAY)  \\\n",
       "2210  Life expectancy at birth (years)         2002             India   \n",
       "2211  Life expectancy at birth (years)         2003             India   \n",
       "2212  Life expectancy at birth (years)         2004             India   \n",
       "2213  Life expectancy at birth (years)         2005             India   \n",
       "2214  Life expectancy at birth (years)         2006             India   \n",
       "2215  Life expectancy at birth (years)         2001             India   \n",
       "2216  Life expectancy at birth (years)         2002             India   \n",
       "2217  Life expectancy at birth (years)         2003             India   \n",
       "2218  Life expectancy at birth (years)         2004             India   \n",
       "2219  Life expectancy at birth (years)         2000             India   \n",
       "\n",
       "     SEX (DISPLAY)   Numeric  \n",
       "2210          Male  62.70160  \n",
       "2211          Male  63.08193  \n",
       "2212          Male  63.41594  \n",
       "2213          Male  63.87052  \n",
       "2214          Male  64.28259  \n",
       "2215        Female  63.44758  \n",
       "2216        Female  63.86421  \n",
       "2217        Female  64.25252  \n",
       "2218        Female  64.63663  \n",
       "2219    Both sexes  62.48507  "
      ]
     },
     "execution_count": 4,
     "metadata": {},
     "output_type": "execute_result"
    }
   ],
   "source": [
    "who_list = pd.read_csv('http://apps.who.int/gho/athena/data/GHO/WHOSIS_000001,WHOSIS_000015?filter=COUNTRY:*&x-sideaxis=COUNTRY;YEAR&x-topaxis=GHO;SEX&profile=verbose&format=csv')\n",
    "# save a local copy of the data set for our Flask prototype later on\n",
    "who_list.to_csv('WHOSIS_000001,WHOSIS_000015.csv')\n",
    "        \n",
    "# Keep only useful features fix case display of country text\n",
    "who_list = who_list[['GHO (DISPLAY)', 'YEAR (CODE)' , 'COUNTRY (DISPLAY)', 'SEX (DISPLAY)', 'Numeric']]\n",
    "who_list['COUNTRY (DISPLAY)'] = [ctry.title() for ctry in who_list['COUNTRY (DISPLAY)'].values]\n",
    "# print a few rows\n",
    "who_list[who_list['COUNTRY (DISPLAY)']=='India'].head(10)"
   ]
  },
  {
   "cell_type": "code",
   "execution_count": 9,
   "metadata": {},
   "outputs": [
    {
     "name": "stdout",
     "output_type": "stream",
     "text": [
      "sub_set_birth:\n",
      "                          GHO (DISPLAY)  YEAR (CODE) COUNTRY (DISPLAY)  \\\n",
      "2223   Life expectancy at birth (years)         2016             India   \n",
      "3031   Life expectancy at birth (years)         2016             India   \n",
      "3036   Life expectancy at birth (years)         2016             India   \n",
      "11626  Life expectancy at birth (years)         2015             India   \n",
      "11622  Life expectancy at birth (years)         2015             India   \n",
      "\n",
      "      SEX (DISPLAY)   Numeric  \n",
      "2223     Both sexes  68.82572  \n",
      "3031           Male  67.43705  \n",
      "3036         Female  70.33931  \n",
      "11626    Both sexes  68.49070  \n",
      "11622        Female  69.96235  \n",
      "sub_set_60:\n",
      "                           GHO (DISPLAY)  YEAR (CODE) COUNTRY (DISPLAY)  \\\n",
      "17403  Life expectancy at age 60 (years)         2016             India   \n",
      "9457   Life expectancy at age 60 (years)         2016             India   \n",
      "9453   Life expectancy at age 60 (years)         2016             India   \n",
      "9461   Life expectancy at age 60 (years)         2015             India   \n",
      "9456   Life expectancy at age 60 (years)         2015             India   \n",
      "\n",
      "      SEX (DISPLAY)   Numeric  \n",
      "17403    Both sexes  18.01512  \n",
      "9457         Female  18.79667  \n",
      "9453           Male  17.24124  \n",
      "9461     Both sexes  17.95023  \n",
      "9456         Female  18.72048  \n"
     ]
    }
   ],
   "source": [
    "country = 'India'\n",
    "sex = 'Female'\n",
    "sub_set = who_list[who_list['COUNTRY (DISPLAY)'].str.startswith(country, na=False)]\n",
    "\n",
    "sub_set = sub_set.sort_values('YEAR (CODE)', ascending=False)\n",
    "sub_set_birth = sub_set[sub_set['GHO (DISPLAY)'] == 'Life expectancy at birth (years)'] \n",
    "sub_set_60 = sub_set[sub_set['GHO (DISPLAY)'] == 'Life expectancy at age 60 (years)'] \n",
    "print('sub_set_birth:')\n",
    "print(sub_set_birth.head(5))\n",
    "print('sub_set_60:')\n",
    "print(sub_set_60.head(5))"
   ]
  },
  {
   "cell_type": "code",
   "execution_count": 23,
   "metadata": {},
   "outputs": [
    {
     "data": {
      "image/png": "[encoded data removed]",
      "text/plain": [
       "<Figure size 360x360 with 1 Axes>"
      ]
     },
     "metadata": {
      "needs_background": "light"
     },
     "output_type": "display_data"
    }
   ],
   "source": [
    "at_birth = sub_set_birth['Numeric'].values[0]\n",
    "at_60 = sub_set_60['Numeric'].values[0]\n",
    "age = [0,60]\n",
    "life_expectancy = [at_birth,at_60]\n",
    "fig, axes = plt.subplots(figsize=(5,5))\n",
    "x = age\n",
    "y = life_expectancy\n",
    "axes.plot(x,y,color ='green', marker ='o')\n",
    "fig.suptitle('Life Expectancy')\n",
    "axes.set_xlabel('age')\n",
    "axes.set_xlim([-5,100])\n",
    "axes.set_ylabel('life expectancy')\n",
    "axes.set_ylim([0,100])\n",
    "plt.show()"
   ]
  },
  {
   "cell_type": "code",
   "execution_count": 25,
   "metadata": {},
   "outputs": [
    {
     "name": "stdout",
     "output_type": "stream",
     "text": [
      "intercept:  68.82571999999999\n",
      "slope:  -0.8468433333333332\n"
     ]
    },
    {
     "data": {
      "text/plain": [
       "27.0"
      ]
     },
     "execution_count": 25,
     "metadata": {},
     "output_type": "execute_result"
    }
   ],
   "source": [
    "from scipy import stats\n",
    "# model \n",
    "slope, intercept, r_value, p_value, std_err = stats.linregress(age, life_expectancy)\n",
    "print('intercept: ', intercept)\n",
    "print('slope: ', slope)\n"
   ]
  },
  {
   "cell_type": "code",
   "execution_count": 29,
   "metadata": {},
   "outputs": [],
   "source": [
    "#function to calculate life expectancy\n",
    "def life_expectancy(age):\n",
    "   return np.ceil(slope * age + intercept)"
   ]
  },
  {
   "cell_type": "code",
   "execution_count": 30,
   "metadata": {},
   "outputs": [
    {
     "name": "stdout",
     "output_type": "stream",
     "text": [
      "27.0\n"
     ]
    }
   ],
   "source": [
    "print(life_expectancy(50))"
   ]
  },
  {
   "cell_type": "code",
   "execution_count": 33,
   "metadata": {},
   "outputs": [],
   "source": [
    "def get_life_expectancy(age, country,sex):\n",
    "    sub_set = who_list[who_list['COUNTRY (DISPLAY)'].str.startswith(country, na=False)]\n",
    "    sub_set = sub_set[sub_set['SEX (DISPLAY)'] == sex]\n",
    "    sub_set = sub_set.sort_values('YEAR (CODE)', ascending=False)\n",
    "    sub_set_birth = sub_set[sub_set['GHO (DISPLAY)'] == 'Life expectancy at birth (years)'] \n",
    "    sub_set_60 = sub_set[sub_set['GHO (DISPLAY)'] == 'Life expectancy at age 60 (years)'] \n",
    "    if len(sub_set_birth['Numeric']) > 0 and len(sub_set_60['Numeric']) > 0:\n",
    "        at_birth = sub_set_birth['Numeric'].values[0]\n",
    "        at_60 = sub_set_60['Numeric'].values[0]\n",
    "    \n",
    "        #model\n",
    "        slope, intercept, r_value, p_value, std_err = stats.linregress([0,60],[at_birth,at_60])\n",
    "        return (np.ceil(slope* age + intercept))\n",
    "    else:\n",
    "        return None\n"
   ]
  },
  {
   "cell_type": "code",
   "execution_count": null,
   "metadata": {},
   "outputs": [],
   "source": []
  }
 ],
 "metadata": {
  "kernelspec": {
   "display_name": "Python 3",
   "language": "python",
   "name": "python3"
  },
  "language_info": {
   "codemirror_mode": {
    "name": "ipython",
    "version": 3
   },
   "file_extension": ".py",
   "mimetype": "text/x-python",
   "name": "python",
   "nbconvert_exporter": "python",
   "pygments_lexer": "ipython3",
   "version": "3.7.3"
  }
 },
 "nbformat": 4,
 "nbformat_minor": 2
}
